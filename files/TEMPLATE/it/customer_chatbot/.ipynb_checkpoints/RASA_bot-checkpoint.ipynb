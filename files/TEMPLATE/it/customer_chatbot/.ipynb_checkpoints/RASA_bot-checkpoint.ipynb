{
 "cells": [
  {
   "cell_type": "code",
   "execution_count": null,
   "metadata": {},
   "outputs": [],
   "source": [
    "import nest_asyncio\n",
    "\n",
    "nest_asyncio.apply()\n",
    "print(\"Event loop ready.\")"
   ]
  },
  {
   "cell_type": "markdown",
   "metadata": {},
   "source": [
    "## Test-Project"
   ]
  },
  {
   "cell_type": "code",
   "execution_count": null,
   "metadata": {},
   "outputs": [],
   "source": [
    "from rasa.cli.scaffold import create_initial_project\n",
    "import os\n",
    "\n",
    "project = \"rasa-assistant\"\n",
    "\n",
    "os.chdir(project)\n",
    "print(os.listdir(\".\"))"
   ]
  },
  {
   "cell_type": "markdown",
   "metadata": {},
   "source": [
    "## Training-Files"
   ]
  },
  {
   "cell_type": "code",
   "execution_count": null,
   "metadata": {},
   "outputs": [],
   "source": [
    "config = \"config.yml\"\n",
    "training_files = \"data/\"\n",
    "#training_files = \"data_entities/\" ### NLU CON ENTITY ###\n",
    "domain = \"domain.yml\"\n",
    "#domain = \"domain_entities.yml\" ### DOMAIN CON ENTITY ###\n",
    "output = \"models/\"\n",
    "print(config, training_files, domain, output)"
   ]
  },
  {
   "cell_type": "markdown",
   "metadata": {},
   "source": [
    "## Train a Model"
   ]
  },
  {
   "cell_type": "code",
   "execution_count": null,
   "metadata": {},
   "outputs": [],
   "source": [
    "import rasa\n",
    "\n",
    "model_path = rasa.train(domain, config, [training_files], output)\n",
    "print(model_path)"
   ]
  },
  {
   "cell_type": "markdown",
   "metadata": {},
   "source": [
    "## Chat with your Assistant"
   ]
  },
  {
   "cell_type": "code",
   "execution_count": null,
   "metadata": {},
   "outputs": [],
   "source": [
    "#from rasa.jupyter import chat\n",
    "#chat(model_path)"
   ]
  },
  {
   "cell_type": "markdown",
   "metadata": {},
   "source": [
    "## RASA BOT WITH MORE ANSWERS"
   ]
  },
  {
   "cell_type": "code",
   "execution_count": null,
   "metadata": {},
   "outputs": [],
   "source": [
    "from rasa.nlu.training_data import load_data\n",
    "from rasa.nlu.model import Trainer\n",
    "from rasa.nlu import config\n",
    "from rasa.nlu.extractors import *\n",
    "from rasa.nlu.classifiers import *\n",
    "\n",
    "training_data = load_data('/home/jovyan/work/RASA/rasa-assistant/data/nlu.md')\n",
    "trainer = Trainer(config.load(\"/home/jovyan/work/RASA/rasa-assistant/config.yml\"))\n",
    "trainer.train(training_data)\n",
    "model_directory = trainer.persist('/home/jovyan/work/RASA/rasa-assistant/projects/default/') "
   ]
  },
  {
   "cell_type": "code",
   "execution_count": null,
   "metadata": {},
   "outputs": [],
   "source": [
    "from rasa.nlu.model import Interpreter\n",
    "interpreter = Interpreter.load(model_directory)"
   ]
  },
  {
   "cell_type": "code",
   "execution_count": null,
   "metadata": {},
   "outputs": [],
   "source": [
    "interpreter.parse(\"come connetto la posta?\")"
   ]
  },
  {
   "cell_type": "code",
   "execution_count": null,
   "metadata": {},
   "outputs": [],
   "source": [
    "import re\n",
    "import MySQLdb\n",
    "\n",
    "f = open(\"./data/nlu.md\", 'r')\n",
    "file_intents = f.read()\n",
    "f.close()\n",
    "\n",
    "f = open(\"./domain.yml\", 'r')\n",
    "file_answers = f.read()\n",
    "f.close()\n",
    "        \n",
    "# Array di risposte ordinate\n",
    "answers = []\n",
    "for r in re.split(\"  utter_[0-9]+:\\n *- text:\", file_answers.split(\"responses:\\n\")[1]):\n",
    "    if r != \"\":\n",
    "        answers.append(r.strip())\n",
    "        \n",
    "file_connessione = open(\"../../db_connections/DB_CONNECTIONS.json\", \"r\")\n",
    "dati_connessione = str(file_connessione.read().replace(':', '=').replace('username', 'user').replace('password=', 'passwd=').replace('database', 'db')[1:-1])\n",
    "conn = eval(\"MySQLdb.connect(\" + dati_connessione + \")\")\n",
    "file_connessione.close()\n",
    "cursor = conn.cursor()\n",
    "\n",
    "while True:\n",
    "    print(\"Inserire frase:\")\n",
    "    user_sentence = input()\n",
    "    user_sentence = user_sentence\n",
    "    user_sentence = re.sub('\\r+\\n+', ' ', user_sentence)\n",
    "    user_sentence = user_sentence.replace('#', \" \").replace('\\\"', \"'\").replace('\\n', ' ').replace('...', ' ').replace('..', ' ').replace(';', ' ').replace('!', ' ').replace('?', ' ').replace(':', ' ').replace('-', ' ').replace('<', ' ').replace('>', ' ')\n",
    "    user_sentence = re.sub(' +', ' ', user_sentence)\n",
    "    user_sentence = user_sentence.strip()\n",
    "    bot_response = interpreter.parse(user_sentence)\n",
    "\n",
    "    responses = []\n",
    "    for o in bot_response['intent_ranking']:\n",
    "        responses.append([answers[int(o['name'][2:])], o['confidence']])\n",
    "    \n",
    "    risposta_trovata = False\n",
    "    for i in range(len(responses)):\n",
    "        print(\"\\nRISPOSTA\", str(i), \"\\t-\\tCONFIDENCE \", responses[i][1], \"\\n\",responses[i][0], \"\\n\")\n",
    "        print(\"Corretta? si/no/esci\")\n",
    "        corretta = input()\n",
    "        if corretta == \"si\":\n",
    "            \n",
    "            # DALLA 315 COMPRESA SONO LE FRASI AGGIUNTE QUI\n",
    "            \n",
    "            cursor.execute(\"SELECT id FROM faq_questions where frase = '\" + user_sentence + \"'\")\n",
    "            questions = list(cursor.fetchall())\n",
    "            if len(questions) > 0:\n",
    "                print(\"\\n*** Frase già presente ***\")\n",
    "                break\n",
    "            else:\n",
    "                cursor.execute(\"SELECT parent_id FROM faq_answers where frase = '\" + str(responses[i][0].split(\"> \")[1]) + \"'\")\n",
    "                parent_id = cursor.fetchall()[0][0]\n",
    "                cursor.execute(\"INSERT INTO faq_questions (frase, parent_id) VALUES (%s, %s)\", (str(user_sentence), str(parent_id)))\n",
    "                conn.commit()\n",
    "                risposta_trovata = True\n",
    "                break\n",
    "        elif corretta == \"esci\":\n",
    "            break\n",
    "            \n",
    "    if risposta_trovata == False:\n",
    "        file = open(\"../missed_questions.txt\", \"a\")\n",
    "        file.write(user_sentence + \"\\n\")\n",
    "        file.close()\n",
    "        \n",
    "    print(\"\\nInserire un'altra domanda? si/no\")\n",
    "    uscire = input()\n",
    "    if uscire == \"no\":\n",
    "        break\n",
    "    print(\"\\n_________________________________________\\n\")\n",
    "\n",
    "conn.close()\n"
   ]
  },
  {
   "cell_type": "code",
   "execution_count": null,
   "metadata": {},
   "outputs": [],
   "source": []
  },
  {
   "cell_type": "code",
   "execution_count": null,
   "metadata": {},
   "outputs": [],
   "source": []
  },
  {
   "cell_type": "code",
   "execution_count": null,
   "metadata": {},
   "outputs": [],
   "source": []
  },
  {
   "cell_type": "code",
   "execution_count": null,
   "metadata": {},
   "outputs": [],
   "source": [
    "import MySQLdb\n",
    "file_connessione = open(\"../db_connections/DB_CONNECTIONS.json\", \"r\")\n",
    "dati_connessione = str(file_connessione.read().replace(':', '=').replace('username', 'user').replace('password=', 'passwd=').replace('database', 'db')[1:-1])\n",
    "conn = eval(\"MySQLdb.connect(\" + dati_connessione + \")\")\n",
    "file_connessione.close()\n",
    "cursor = conn.cursor()\n",
    "\n",
    "cursor.execute(\"DROP TABLE IF EXISTS rasa_faq_models\")\n",
    "sql ='''CREATE TABLE rasa_faq_models(\n",
    "   id SERIAL PRIMARY KEY,\n",
    "   name Text,\n",
    "   vt Timestamp NOT NULL DEFAULT CURRENT_TIMESTAMP\n",
    ")'''\n",
    "cursor.execute(sql)\n",
    "model_name = \"model_directory_1\"\n",
    "cursor.execute(\"INSERT INTO rasa_faq_models (name) VALUES ('\" + str(model_name) + \"')\")\n",
    "conn.commit()\n",
    "conn.close()\n"
   ]
  },
  {
   "cell_type": "code",
   "execution_count": null,
   "metadata": {},
   "outputs": [],
   "source": []
  },
  {
   "cell_type": "code",
   "execution_count": null,
   "metadata": {},
   "outputs": [],
   "source": [
    "import spacy\n",
    "nlp = spacy.load(\"../model/model_NER/model\")\n",
    "nlp1 = spacy.load('it_core_news_lg')\n",
    "nlp2 = spacy.load('it')"
   ]
  },
  {
   "cell_type": "code",
   "execution_count": null,
   "metadata": {},
   "outputs": [],
   "source": [
    "\n",
    "doc1 = nlp(\"usare\")\n",
    "doc2 = nlp(\"utilizzare\")\n",
    "doc3 = nlp1(\"usare\")\n",
    "doc4 = nlp1(\"utilizzare\")\n",
    "\n",
    "print(doc1.similarity(doc2))\n",
    "print(doc3.similarity(doc4))"
   ]
  },
  {
   "cell_type": "code",
   "execution_count": null,
   "metadata": {},
   "outputs": [],
   "source": [
    "#import plac\n",
    "#import random\n",
    "#import warnings\n",
    "#from pathlib import Path\n",
    "#import spacy\n",
    "#from spacy.util import minibatch, compounding\n",
    "\n",
    "doc = nlp(\"codifica dei caratteri\")\n",
    "for d in doc:\n",
    "    print(d.text + \" - \" + d.lemma_ + \" - \" + d.pos_)\n",
    "for ent in doc.ents:\n",
    "    print(ent.text)"
   ]
  },
  {
   "cell_type": "code",
   "execution_count": null,
   "metadata": {},
   "outputs": [],
   "source": [
    "doc = nlp(\"aiutami a configurare gmail\")\n",
    "for d in doc:\n",
    "    print(d.lemma_ + \" - \" + d.pos_)"
   ]
  },
  {
   "cell_type": "code",
   "execution_count": null,
   "metadata": {},
   "outputs": [],
   "source": [
    "!python -m spacy validate"
   ]
  },
  {
   "cell_type": "code",
   "execution_count": null,
   "metadata": {},
   "outputs": [],
   "source": [
    "import rasa; print(rasa.__version__);"
   ]
  },
  {
   "cell_type": "code",
   "execution_count": null,
   "metadata": {},
   "outputs": [],
   "source": []
  }
 ],
 "metadata": {
  "kernelspec": {
   "display_name": "Python 3",
   "language": "python",
   "name": "python3"
  },
  "language_info": {
   "codemirror_mode": {
    "name": "ipython",
    "version": 3
   },
   "file_extension": ".py",
   "mimetype": "text/x-python",
   "name": "python",
   "nbconvert_exporter": "python",
   "pygments_lexer": "ipython3",
   "version": "3.7.6"
  }
 },
 "nbformat": 4,
 "nbformat_minor": 4
}
