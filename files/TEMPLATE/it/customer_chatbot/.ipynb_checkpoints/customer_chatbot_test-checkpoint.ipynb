{
 "cells": [
  {
   "cell_type": "markdown",
   "metadata": {},
   "source": [
    "# Avvia lo script per eseguire i test"
   ]
  },
  {
   "cell_type": "code",
   "execution_count": null,
   "metadata": {},
   "outputs": [],
   "source": [
    "import MySQLdb\n",
    "import os\n",
    "\n",
    "file_connessione = open(\"../db_connections/DB_CONNECTIONS.json\", \"r\")\n",
    "dati_connessione = str(file_connessione.read().replace(':', '=').replace('username', 'user').replace('password=', 'passwd=').replace('database', 'db')[1:-1])\n",
    "conn = eval(\"MySQLdb.connect(\" + dati_connessione + \")\")\n",
    "file_connessione.close()\n",
    "cursor = conn.cursor()\n",
    "\n",
    "cursor.execute(\"UPDATE rasa_tests SET result = NULL, events = NULL\")\n",
    "conn.commit()\n",
    "\n",
    "cursor.execute(\"SELECT sentence FROM rasa_tests\")\n",
    "sentences = cursor.fetchall()\n",
    "conn.close()\n",
    "\n",
    "if len(sentences) > 0:\n",
    "    i = 1\n",
    "    for sentence in sentences:\n",
    "        print(\"TEST \" + str(i) + \"/\" + str(len(sentences)))\n",
    "        f = open(\"input.txt\", \"w\")\n",
    "        f.write(sentence[0] + \"\\n/stop\\nEOF\")\n",
    "        f.close()\n",
    "\n",
    "        !bash script_test.sh\n",
    "\n",
    "        print(\"\\n\\n\")    \n",
    "        i = i + 1\n",
    "\n",
    "    os.remove(\"input.txt\")"
   ]
  },
  {
   "cell_type": "code",
   "execution_count": null,
   "metadata": {},
   "outputs": [],
   "source": []
  }
 ],
 "metadata": {
  "kernelspec": {
   "display_name": "Python 3",
   "language": "python",
   "name": "python3"
  },
  "language_info": {
   "codemirror_mode": {
    "name": "ipython",
    "version": 3
   },
   "file_extension": ".py",
   "mimetype": "text/x-python",
   "name": "python",
   "nbconvert_exporter": "python",
   "pygments_lexer": "ipython3",
   "version": "3.7.6"
  }
 },
 "nbformat": 4,
 "nbformat_minor": 4
}
