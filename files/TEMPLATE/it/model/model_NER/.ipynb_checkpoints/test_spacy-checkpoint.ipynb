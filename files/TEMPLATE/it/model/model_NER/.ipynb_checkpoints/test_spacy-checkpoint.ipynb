{
 "cells": [
  {
   "cell_type": "code",
   "execution_count": 7,
   "metadata": {},
   "outputs": [],
   "source": [
    "import spacy\n",
    "from spacy import displacy"
   ]
  },
  {
   "cell_type": "code",
   "execution_count": 12,
   "metadata": {},
   "outputs": [],
   "source": [
    "nlp = spacy.load(\"./model\")"
   ]
  },
  {
   "cell_type": "code",
   "execution_count": 13,
   "metadata": {},
   "outputs": [
    {
     "name": "stdout",
     "output_type": "stream",
     "text": [
      "FRASE:\n",
      " VTE è un software interessante\n",
      "\tPOS:  PROPN\n",
      "\tHEAD:  software\n",
      "\tDEP:  nsubj\n",
      "\tENT:  SOFTWARE\n",
      "\n",
      "\n",
      "\tPOS:  VERB\n",
      "\tHEAD:  software\n",
      "\tDEP:  cop\n",
      "\tENT:  \n",
      "\n",
      "\n",
      "\tPOS:  DET\n",
      "\tHEAD:  software\n",
      "\tDEP:  det\n",
      "\tENT:  \n",
      "\n",
      "\n",
      "\tPOS:  NOUN\n",
      "\tHEAD:  software\n",
      "\tDEP:  ROOT\n",
      "\tENT:  \n",
      "\n",
      "\n",
      "\tPOS:  ADJ\n",
      "\tHEAD:  software\n",
      "\tDEP:  amod\n",
      "\tENT:  \n",
      "\n",
      "\n"
     ]
    }
   ],
   "source": [
    "frase = \"VTE è un software interessante\"\n",
    "doc = nlp(frase)\n",
    "\n",
    "print(\"FRASE:\\n\", frase)\n",
    "for t in doc:\n",
    "    print(\"\\tPOS: \", t.pos_)\n",
    "    print(\"\\tHEAD: \", t.head)\n",
    "    print(\"\\tDEP: \", t.dep_)\n",
    "    print(\"\\tENT: \", t.ent_type_)\n",
    "    print(\"\\n\")"
   ]
  },
  {
   "cell_type": "code",
   "execution_count": null,
   "metadata": {},
   "outputs": [],
   "source": []
  }
 ],
 "metadata": {
  "kernelspec": {
   "display_name": "Python 3",
   "language": "python",
   "name": "python3"
  },
  "language_info": {
   "codemirror_mode": {
    "name": "ipython",
    "version": 3
   },
   "file_extension": ".py",
   "mimetype": "text/x-python",
   "name": "python",
   "nbconvert_exporter": "python",
   "pygments_lexer": "ipython3",
   "version": "3.7.6"
  }
 },
 "nbformat": 4,
 "nbformat_minor": 4
}
